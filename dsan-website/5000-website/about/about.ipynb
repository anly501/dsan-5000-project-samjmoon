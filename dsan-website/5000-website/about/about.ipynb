{
 "cells": [
  {
   "cell_type": "markdown",
   "metadata": {},
   "source": [
    "---\n",
    "title: \"About\"\n",
    "---\n",
    "\n",
    "\n",
    "<p align=\"center\">\n",
    "  <img src=\"sam.png\" alt=\"Me\" width=300>\n",
    "</p>\n"
   ]
  },
  {
   "cell_type": "markdown",
   "metadata": {},
   "source": [
    "Email: sjm206@georgetown.edu <br>\n",
    "LinkedIn: linkedin.com/in/samanthamoon17<br>\n",
    "GU NetID: sjm206\n"
   ]
  },
  {
   "cell_type": "markdown",
   "metadata": {},
   "source": [
    "Samantha Moon is a first year DSAN student at Georgetown University. She earned her bachelor's degree from the University of Alabama in 2021. She majored in Mathematics with a concentration in Statistics and Optimization, and minored in Actuarial Science. In June 2021, she began working at RockCreek, an investment managemend firm in Washington, DC. During this time, she gained experience in fund accounting and performance reporting. After working full-time for two years, she decided to pursue the Data Science and Analytics master's prorgam at Georgetown University. She has many interests and is interested in the applications of data science in various fields, not limited to finance."
   ]
  },
  {
   "cell_type": "markdown",
   "metadata": {},
   "source": [
    "Samantha was born in Washington, DC where she lived briefly before moving to Georgia and Alabama. Since she grew up moving around a lot, she has interest in travelling and exploring new areas and new activities. She has been living in DC for the past year and a half and enjoys going on runs, crafting, and checking out new restaurants around the city.  "
   ]
  }
 ],
 "metadata": {
  "language_info": {
   "name": "python"
  },
  "orig_nbformat": 4
 },
 "nbformat": 4,
 "nbformat_minor": 2
}
