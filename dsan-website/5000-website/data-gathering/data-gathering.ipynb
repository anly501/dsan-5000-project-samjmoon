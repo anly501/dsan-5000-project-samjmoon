{
 "cells": [
  {
   "cell_type": "markdown",
   "metadata": {},
   "source": [
    "---\n",
    "title: \"Data Gathering\"\n",
    "---"
   ]
  },
  {
   "cell_type": "markdown",
   "metadata": {},
   "source": [
    "I gathered my data using News API and Kaggle data sets.\n",
    "\n",
    "From Kaggle, I pulled the \"Zara Dataset - Men and Women Clothing\" data sets which is a pretty comprehensive set of data summarizing the Zara inventory for men and women. <br>\n",
    "Here is a sample from the SHIRTS data set for women:\n",
    "<p align=\"left\">\n",
    "  <img src=\"zara_sample.png\" alt=\"Me\" width=1000>\n",
    "</p>\n",
    "\n",
    "[Download full Zara data set here](/data-gathering/zara.zip)"
   ]
  },
  {
   "cell_type": "markdown",
   "metadata": {},
   "source": [
    "I also used the News API to gather data on news titles related to the topic \"fast fashion\".\n",
    "[Access code here](/data-gathering/news_api.ipynb)"
   ]
  }
 ],
 "metadata": {
  "language_info": {
   "name": "python"
  },
  "orig_nbformat": 4
 },
 "nbformat": 4,
 "nbformat_minor": 2
}
