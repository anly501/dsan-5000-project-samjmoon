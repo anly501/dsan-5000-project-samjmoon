{
 "cells": [
  {
   "cell_type": "markdown",
   "metadata": {},
   "source": [
    "---\n",
    "title: \"Data Gathering\"\n",
    "---"
   ]
  },
  {
   "cell_type": "markdown",
   "metadata": {},
   "source": [
    "The primary sources of data collection were MovieLens through GroupLens and Kaggle. GroupLens is a research organization from the University of Minnesota, Twin Cities and has collected a plethora of data from the MovieLens website. MovieLens is a movie recommendation website that users can employ to find personalized movie recommendations. Kaggle is a common destination for public datasets, as was used to obtain additional MovieLens data. "
   ]
  },
  {
   "cell_type": "markdown",
   "metadata": {},
   "source": [
    "## GroupLens ##"
   ]
  },
  {
   "cell_type": "markdown",
   "metadata": {},
   "source": [
    "Individual user rating data was acquired through the MovieLens latest small dataset from GroupLens. This dataset contains 100,000 ratings across 600 users and 9,000 films. \n",
    "\n",
    "[Download MovieLens data set here](/data-gathering/ml-latest-small.zip)"
   ]
  },
  {
   "cell_type": "markdown",
   "metadata": {},
   "source": [
    "## Kaggle ##"
   ]
  },
  {
   "cell_type": "markdown",
   "metadata": {},
   "source": [
    "Movie metadata was obtained through \"The Movies Dataset\" on Kaggle. This dataset contains 45,000 films released on or before July 2017.\n",
    "\n",
    "Link to dataset: https://www.kaggle.com/datasets/rounakbanik/the-movies-dataset"
   ]
  }
 ],
 "metadata": {
  "language_info": {
   "name": "python"
  },
  "orig_nbformat": 4
 },
 "nbformat": 4,
 "nbformat_minor": 2
}
