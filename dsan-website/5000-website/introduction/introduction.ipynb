{
 "cells": [
  {
   "cell_type": "markdown",
   "metadata": {},
   "source": [
    "---\n",
    "title: \"Analyzing Movie Data\"\n",
    "bibliography: ./references.bib\n",
    "---"
   ]
  },
  {
   "cell_type": "markdown",
   "metadata": {},
   "source": [
    "My topic for research explores the profitability of ethical fashion and how this subset of the fashion industry is growing. Now more than ever, people are discussing environemental concerns in many areas of society. I want to explore how the implementationo of sustainability as well as socially ethical practices are developing in fashion and consumer response. The discourse on \"fast fashion\" has been trending over social media platforms, primarily in regards to the unsafe labor practices by large fast fashion brands. This discussion has shaped consumer sentiment towards fast fashion companies, and turned many heads toward more sustainable brands. I aim to study how and if ethical fashion brands have displayed high profitability and if this this sustainable route will be followed by businesses in the future."
   ]
  },
  {
   "cell_type": "markdown",
   "metadata": {},
   "source": [
    "**10 Questions for Answering:** <br>\n",
    "1. How has consumer purchase data evolved over recent years in relation to ethical fashion? <br>\n",
    "2. How have ethical fashion brands grown with rising support for sustainability in the consumer base? <br>\n",
    "3. How profitable are ethical fashion lines in comparison to their \"fast fashion\" competitors?<br>\n",
    "4. Is ethical fashion merely a trend?<br>\n",
    "5. How important is sustainability to the consumer base when it comes to decision-making?<br>\n",
    "6. What type of products are particularly successful within the ethical fashion dimension (if any)?<br>\n",
    "7. How has social media impacted the profitability of ethical fashion brands?<br>\n",
    "8. What are social media users' sentiment towards ethical fashion and how has that influenced purchase metrics?<br>\n",
    "9. How profitable is ethical fashion in the present?<br>\n",
    "10. What data will influence businesses to take on sustainable roles in the future?<br>"
   ]
  },
  {
   "cell_type": "markdown",
   "metadata": {},
   "source": [
    "**Publication 1: \"The impact of ethical fashion on consumer purchase behavior\"** <br>\n",
    "\n",
    "This article explores how consumers have become more conscious of the materials used in clothing and are pushing for transparency and ethics in the fashion supply chain. From apparel manufacturers releasing harmful chemicals into the air to sweatshop labor conditions, the topic of \"ethical fashion\" has risen as companies are striving to be more environmentally and socially responsible. \n",
    "\n",
    "Consumer values and concerns regarding ethical matters and how they play a significant role in the rise of ethical fashion is explored in two areas.\n",
    "This publication focuses on both socially responsible businesses (SRB), which deals with issues like sweatshop labor, and environmentally responsible businesses (ERB), focused on eco-friendly practices. The highlights of this research encompass examining consumers' viewpoints on ethical fashion and analyzing consumer purchasing behavior impacted by ethical fashion. (see @shen2012impact)\n"
   ]
  },
  {
   "cell_type": "markdown",
   "metadata": {},
   "source": [
    "**Publication 2: Sustainable fashion index model and its implication** <br>\n",
    "\n",
    "This study explores key questions regarding how consumers perceive sustainability in the fashion industry and how these perceptions affect various businesses. It addresses whether embracing sustainability can give companies a competitive edge and lead to increased profitability. The publication uses the American Customer Satisfaction Index (ACSI) as a foundation for research. The ACSI captures an overall assessment of customer satisfaction on the basis of various foundations including sustainability. \n",
    "\n",
    "This study revolves around identifying the variables that influence sustainable practices of fashion companies by creating metrics for assessing sustainability in the fashion sector. (see @wang2019sustainable)\n"
   ]
  }
 ],
 "metadata": {
  "language_info": {
   "name": "python"
  },
  "orig_nbformat": 4
 },
 "nbformat": 4,
 "nbformat_minor": 2
}
