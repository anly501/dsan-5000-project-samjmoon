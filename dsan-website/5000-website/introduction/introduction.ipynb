{
 "cells": [
  {
   "cell_type": "markdown",
   "metadata": {},
   "source": [
    "---\n",
    "title: \"Analyzing Movie Data\"\n",
    "bibliography: ./references.bib\n",
    "---"
   ]
  },
  {
   "cell_type": "markdown",
   "metadata": {},
   "source": [
    "My topic for research explores the film industry on the basis of movie popularity and viewer preferences. Movie recommender systems have been built to curate custom movie recommendations to viewers based on their genre preferences, actor/producer/director preferences, etc. My goal is not to build a recommender system, but I want to take a look into some of the datasets that are used to build these systems and analyze the \"success\" and popularity of different films and the factors that contribute to it. There are a plethora of films and what I aim to do is try to identify trends, if any, in what makes any particular film popular."
   ]
  },
  {
   "cell_type": "markdown",
   "metadata": {},
   "source": [
    "**10 Questions for Answering:** <br>\n",
    "1. What movie genres are the most popular? <br>\n",
    "2. What contributes to movie popularity? <br>\n",
    "3. How much does budget contribute to movie popularity?<br>\n",
    "4. If a low budget movie surpasses a high budget movie in popularity, what factors have contributed to that success? <br>\n",
    "5. Is there a correlation between critic ratings and audience ratings for a movie?<br>\n",
    "6. How does the duration (runtime) of a movie affect its popularity?<br>\n",
    "7. Are shorter or longer movies more likely to be successful?<br>\n",
    "8. Do certain genres or types of movies receive more polarized reviews?<br>\n",
    "9. Are there specific time periods that tend to be more favorable for certain genres?<br>\n",
    "10. Are there any patterns or cycles in the popularity of specific genres?<br>"
   ]
  },
  {
   "cell_type": "markdown",
   "metadata": {},
   "source": [
    "**Publication 1: *Popularity prediction of movies: from statistical modeling to machine learning techniques*** <br>\n",
    "\n",
    "This article explores the early prediction of movie popularity through various machine learning techniques, similar to the tasks of this project. It emphasizes the importance of predicting box office success. Rather than analyzing social media posts to predict a movie's success, this study looks at IMDB public data for analysis. The machine learning techniques used in this study include Generalized Linear Model (GLM), Deep Learning (DL), Decision Tree (DT), Random Forest (RF), and Gradient Boosted Tree (GBT). The discoveries produced by this study show that the best results were obtained through logistic regression. (see @abidi2020popularity)\n"
   ]
  },
  {
   "cell_type": "markdown",
   "metadata": {},
   "source": [
    "**Publication 2: *Early Predictions of Movie Success: The Who, What, and When of Profitability*** <br>\n",
    "\n",
    "This article, similar to the first, focuses on predicting movie success in early stages. This study focuses more on social media analytics and text data to conduct its analysis. The goal of this study is to aid in film investment decision making through analyzing movie profitability. The text data gathered for this study emcompasses cast, plot, release date information. A what-if scenario capability was implemented in this research so that users can look at the predictive profitability based on change of cast members, plot adjustments, etc. Counter to my study, this article uses profitability as the main scale as it only looks at early data that is available before a movie is released. The data I will be working with contains post-release data. (see @ericson2013predictor)\n"
   ]
  }
 ],
 "metadata": {
  "language_info": {
   "name": "python"
  },
  "orig_nbformat": 4
 },
 "nbformat": 4,
 "nbformat_minor": 2
}
