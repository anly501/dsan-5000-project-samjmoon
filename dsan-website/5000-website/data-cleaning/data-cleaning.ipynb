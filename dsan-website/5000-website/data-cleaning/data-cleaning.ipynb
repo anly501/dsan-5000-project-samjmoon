{
 "cells": [
  {
   "cell_type": "markdown",
   "metadata": {},
   "source": [
    "---\n",
    "title: \"Data Cleaning\"\n",
    "---"
   ]
  },
  {
   "cell_type": "markdown",
   "metadata": {},
   "source": [
    "Here is a sample of the cleaned SHIRTS data set for women:\n",
    "<p align=\"left\">\n",
    "  <img src=\"sample_cleaned_zara.png\" alt=\"Cleaned Shirts Data\" width=1000>\n",
    "</p>\n",
    "\n",
    "[Link to full cleaned data set](/data-cleaning/cleaned_shirts_w.csv.zip)\n",
    "\n",
    "To clean this data set, I dropped the \"X\", \"Link\", and \"Product_Image\" columns since these columns are not relevant to my analysis. The Price column from the original data set was in Rupees currency, so I converted this column to USD. <br>\n",
    "[View code here](/data-cleaning/zara_cleaner.R) <br>\n",
    "\n",
    "I can use this code for the other Zara data sets, as they contain relatively similar data."
   ]
  },
  {
   "cell_type": "markdown",
   "metadata": {},
   "source": [
    "[Link to cleaned News API data set](/data-gathering/cleanedfastfashion.csv.zip)"
   ]
  }
 ],
 "metadata": {
  "language_info": {
   "name": "python"
  },
  "orig_nbformat": 4
 },
 "nbformat": 4,
 "nbformat_minor": 2
}
