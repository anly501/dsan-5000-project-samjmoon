{
 "cells": [
  {
   "cell_type": "markdown",
   "metadata": {},
   "source": [
    "---\n",
    "title: \"Conclusion\"\n",
    "---"
   ]
  },
  {
   "cell_type": "markdown",
   "metadata": {},
   "source": [
    "In our exploration of movie datasets sourced from GroupLens and Kaggle, our focus centered on unraveling trends in popularity across key numerical attributes associated with films, such as revenue, budget, average rating, vote averages, vote counts, and runtime. Utilizing techniques like feature selection, dimensionality reduction, and decision trees, our primary goal was to gain insights into the factors influencing movie popularity. A pivotal aspect of our analysis involved transforming the continuous popularity data into three distinct categories: Low, Medium, and High, treating it as a classification variable through binning.\n",
    "\n",
    "Our findings shed light on intriguing patterns and relationships within the movie data, offering a glimpse into how various features contribute to the perceived popularity of movies. Going forward, there exists a promising avenue for extended analysis. We can dive deeper into the dynamics of feature interactions, exploring the impact of external factors on movie popularity, and refining the classification models are potential areas for investigation. Furthermore, refining our classification approach by employing alternative methods or exploring additional features could enhance the accuracy of our predictions. This opens up possibilities for future research, steering us towards a more comprehensive understanding of the factors driving the success and appeal of movies in the film industry.\n",
    "\n",
    "In the future, I would like to take into account more of the metadata features, such as release date, genres, actors/actresses, film producers/directors and incorporate these additional features into my analysis. I would also like to implement regression analysis for future studies. "
   ]
  }
 ],
 "metadata": {
  "language_info": {
   "name": "python"
  },
  "orig_nbformat": 4
 },
 "nbformat": 4,
 "nbformat_minor": 2
}
